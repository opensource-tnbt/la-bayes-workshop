{
 "cells": [
  {
   "cell_type": "code",
   "execution_count": 1,
   "metadata": {
    "collapsed": true
   },
   "outputs": [],
   "source": [
    "from __future__ import print_function, division\n",
    "\n",
    "%matplotlib inline\n",
    "\n",
    "import warnings\n",
    "warnings.filterwarnings('ignore')\n",
    "\n",
    "import math\n",
    "import numpy as np\n",
    "from scipy.special import gamma\n",
    "\n",
    "from thinkbayes2 import Pmf, Suite\n",
    "import thinkplot"
   ]
  },
  {
   "cell_type": "markdown",
   "metadata": {},
   "source": [
    "## The World Cup Problem\n",
    "\n",
    "We'll use λ to represent the hypothetical goal-scoring rate in goals per game.\n",
    "\n"
   ]
  },
  {
   "cell_type": "markdown",
   "metadata": {},
   "source": [
    "To compute prior probabilities for values of λ, I'll use a Gamma distribution.  \n",
    "\n",
    "The mean is 1.3, which is the average number of goals per team per game in World Cup play."
   ]
  },
  {
   "cell_type": "code",
   "execution_count": 2,
   "metadata": {},
   "outputs": [
    {
     "data": {
      "text/plain": [
       "1.3103599490022562"
      ]
     },
     "execution_count": 2,
     "metadata": {},
     "output_type": "execute_result"
    },
    {
     "data": {
      "image/png": "[encoded data removed]",
      "text/plain": [
       "<matplotlib.figure.Figure at 0x7f46883fca90>"
      ]
     },
     "metadata": {},
     "output_type": "display_data"
    }
   ],
   "source": [
    "from thinkbayes2 import MakeGammaPmf\n",
    "\n",
    "xs = np.linspace(0, 8, 101)\n",
    "pmf = MakeGammaPmf(xs, 1.3)\n",
    "thinkplot.Pdf(pmf)\n",
    "thinkplot.Config(xlabel='Goals per game')\n",
    "pmf.Mean()"
   ]
  },
  {
   "cell_type": "markdown",
   "metadata": {},
   "source": [
    "**Exercise:**  Write a class called `Soccer` that extends `Suite` and defines `Likelihood`, which should compute the probability of the data (the time between goals in minutes) for a hypothetical goal-scoring rate, `lam`, in goals per game.\n",
    "\n",
    "Hint: For a given value of `lam`, the time between goals is distributed exponentially.\n",
    "\n",
    "Here's an outline to get you started:"
   ]
  },
  {
   "cell_type": "code",
   "execution_count": 3,
   "metadata": {
    "collapsed": true
   },
   "outputs": [],
   "source": [
    "class Soccer(Suite):\n",
    "    \"\"\"Represents hypotheses about goal-scoring rates.\"\"\"\n",
    "\n",
    "    def Likelihood(self, data, hypo):\n",
    "        \"\"\"Computes the likelihood of the data under the hypothesis.\n",
    "\n",
    "        hypo: scoring rate in goals per game\n",
    "        data: interarrival time in minutes\n",
    "        \"\"\"\n",
    "        return 1"
   ]
  },
  {
   "cell_type": "code",
   "execution_count": 4,
   "metadata": {
    "collapsed": true
   },
   "outputs": [],
   "source": [
    "# Solution\n",
    "\n",
    "class Soccer(Suite):\n",
    "    \"\"\"Represents hypotheses about goal-scoring rates.\"\"\"\n",
    "\n",
    "    def Likelihood(self, data, hypo):\n",
    "        \"\"\"Computes the likelihood of the data under the hypothesis.\n",
    "\n",
    "        hypo: scoring rate in goals per game\n",
    "        data: interarrival time in minutes\n",
    "        \"\"\"\n",
    "        x = data / 90\n",
    "        lam = hypo\n",
    "        like = lam * math.exp(-lam * x)\n",
    "        return like"
   ]
  },
  {
   "cell_type": "markdown",
   "metadata": {},
   "source": [
    "Now we can create a `Soccer` object and initialize it with the prior Pmf:"
   ]
  },
  {
   "cell_type": "code",
   "execution_count": 5,
   "metadata": {},
   "outputs": [
    {
     "data": {
      "text/plain": [
       "1.3103599490022564"
      ]
     },
     "execution_count": 5,
     "metadata": {},
     "output_type": "execute_result"
    },
    {
     "data": {
      "image/png": "[encoded data removed]",
      "text/plain": [
       "<matplotlib.figure.Figure at 0x7f4685e29410>"
      ]
     },
     "metadata": {},
     "output_type": "display_data"
    }
   ],
   "source": [
    "soccer = Soccer(pmf)\n",
    "thinkplot.Pdf(soccer)\n",
    "thinkplot.Config(xlabel='Goals per game')\n",
    "soccer.Mean()"
   ]
  },
  {
   "cell_type": "markdown",
   "metadata": {},
   "source": [
    "Here's the update after first goal at 11 minutes."
   ]
  },
  {
   "cell_type": "code",
   "execution_count": 6,
   "metadata": {},
   "outputs": [
    {
     "data": {
      "text/plain": [
       "2.035267756093734"
      ]
     },
     "execution_count": 6,
     "metadata": {},
     "output_type": "execute_result"
    },
    {
     "data": {
      "image/png": "[encoded data removed]",
      "text/plain": [
       "<matplotlib.figure.Figure at 0x7f4685d64610>"
      ]
     },
     "metadata": {},
     "output_type": "display_data"
    }
   ],
   "source": [
    "thinkplot.Pdf(soccer, color='0.7')\n",
    "soccer.Update(11)\n",
    "thinkplot.Pdf(soccer)\n",
    "thinkplot.Config(xlabel='Goals per game')\n",
    "soccer.Mean()"
   ]
  },
  {
   "cell_type": "markdown",
   "metadata": {},
   "source": [
    "Here's the update after the second goal at 23 minutes (the time between first and second goals is 12 minutes).\n"
   ]
  },
  {
   "cell_type": "code",
   "execution_count": 7,
   "metadata": {},
   "outputs": [
    {
     "data": {
      "text/plain": [
       "2.6029902257702706"
      ]
     },
     "execution_count": 7,
     "metadata": {},
     "output_type": "execute_result"
    },
    {
     "data": {
      "image/png": "[encoded data removed]",
      "text/plain": [
       "<matplotlib.figure.Figure at 0x7f4685c67850>"
      ]
     },
     "metadata": {},
     "output_type": "display_data"
    }
   ],
   "source": [
    "thinkplot.Pdf(soccer, color='0.7')\n",
    "soccer.Update(12)\n",
    "thinkplot.Pdf(soccer)\n",
    "thinkplot.Config(xlabel='Goals per game')\n",
    "soccer.Mean()"
   ]
  },
  {
   "cell_type": "markdown",
   "metadata": {},
   "source": [
    "This distribution represents our belief about `lam` after two goals.\n",
    "\n",
    "## Estimating the predictive distribution\n",
    "\n",
    "Now to predict the number of goals in the remaining 67 minutes.  There are two sources of uncertainty:\n",
    "\n",
    "1. We don't know the true value of λ.\n",
    "\n",
    "2. Even if we did we wouldn't know how many goals would be scored.\n",
    "\n",
    "We can quantify both sources of uncertainty at the same time, like this:\n",
    "\n",
    "1. Choose a random values from the posterior distribution of λ.\n",
    "\n",
    "2. Use the chosen value to generate a random number of goals.\n",
    "\n",
    "If we run these steps many times, we can estimate the distribution of goals scored.\n",
    "\n",
    "We can sample a value from the posterior like this:"
   ]
  },
  {
   "cell_type": "code",
   "execution_count": 8,
   "metadata": {},
   "outputs": [
    {
     "data": {
      "text/plain": [
       "0.80000000000000004"
      ]
     },
     "execution_count": 8,
     "metadata": {},
     "output_type": "execute_result"
    }
   ],
   "source": [
    "lam = soccer.Random()\n",
    "lam"
   ]
  },
  {
   "cell_type": "markdown",
   "metadata": {},
   "source": [
    "Given `lam`, the number of goals scored in the remaining 67 minutes comes from the Poisson distribution with parameter `lam * t`, with `t` in units of goals.\n",
    "\n",
    "So we can generate a random value like this:"
   ]
  },
  {
   "cell_type": "code",
   "execution_count": 9,
   "metadata": {},
   "outputs": [
    {
     "data": {
      "text/plain": [
       "0"
      ]
     },
     "execution_count": 9,
     "metadata": {},
     "output_type": "execute_result"
    }
   ],
   "source": [
    "t = 67 / 90\n",
    "np.random.poisson(lam * t)"
   ]
  },
  {
   "cell_type": "markdown",
   "metadata": {},
   "source": [
    "If we generate a large sample, we can see the shape of the distribution:"
   ]
  },
  {
   "cell_type": "code",
   "execution_count": 10,
   "metadata": {},
   "outputs": [
    {
     "data": {
      "text/plain": [
       "0.5953"
      ]
     },
     "execution_count": 10,
     "metadata": {},
     "output_type": "execute_result"
    },
    {
     "data": {
      "image/png": "[encoded data removed]",
      "text/plain": [
       "<matplotlib.figure.Figure at 0x7f46b4079810>"
      ]
     },
     "metadata": {},
     "output_type": "display_data"
    }
   ],
   "source": [
    "sample = np.random.poisson(lam * t, size=10000)\n",
    "pmf = Pmf(sample)\n",
    "thinkplot.Hist(pmf)\n",
    "thinkplot.Config(xlabel='Goals scored', ylabel='PMF', xlim=[-0.6, 10.5])\n",
    "pmf.Mean()"
   ]
  },
  {
   "cell_type": "markdown",
   "metadata": {},
   "source": [
    "But that's based on a single value of `lam`, so it doesn't take into account both sources of uncertainty.  Instead, we should sample value values from the posterior distribution and generate one prediction for each.\n",
    "\n",
    "**Exercise:** Write a few lines of code to\n",
    "\n",
    "1. Use `Pmf.Sample` to generate a sample with `n=10000` from the posterior distribution `soccer`.\n",
    "\n",
    "2. Use `np.random.poisson` to generate a random number of goals from the Poisson distribution with parameter $\\lambda t$, where `t` is the remaining time in the game (in units of games).\n",
    "\n",
    "3. Plot the distribution of the predicted number of goals, and print its mean.\n",
    "\n",
    "4. What is the probability of scoring 5 or more goals in the remainder of the game?"
   ]
  },
  {
   "cell_type": "code",
   "execution_count": 11,
   "metadata": {},
   "outputs": [
    {
     "data": {
      "text/plain": [
       "1.9353000000000002"
      ]
     },
     "execution_count": 11,
     "metadata": {},
     "output_type": "execute_result"
    },
    {
     "data": {
      "image/png": "[encoded data removed]",
      "text/plain": [
       "<matplotlib.figure.Figure at 0x7f46b40799d0>"
      ]
     },
     "metadata": {},
     "output_type": "display_data"
    }
   ],
   "source": [
    "# Solution\n",
    "\n",
    "lams = soccer.Sample(10000)\n",
    "scores = np.random.poisson(lams * t)\n",
    "pmf = Pmf(scores)\n",
    "thinkplot.Hist(pmf)\n",
    "thinkplot.Config(xlabel='Goals scored', ylabel='PMF', xlim=[-0.6, 10.5])\n",
    "pmf.Mean()"
   ]
  },
  {
   "cell_type": "code",
   "execution_count": 12,
   "metadata": {},
   "outputs": [
    {
     "data": {
      "text/plain": [
       "0.085400000000000004"
      ]
     },
     "execution_count": 12,
     "metadata": {},
     "output_type": "execute_result"
    }
   ],
   "source": [
    "# Solution\n",
    "\n",
    "sum(scores>=5) / len(scores)"
   ]
  },
  {
   "cell_type": "markdown",
   "metadata": {},
   "source": [
    "## Computing the predictive distribution\n",
    "\n",
    "Alternatively, we can compute the predictive distribution by making a mixture of Poisson distributions.\n",
    "\n",
    "`MakePoissonPmf` makes a Pmf that represents a Poisson distribution."
   ]
  },
  {
   "cell_type": "code",
   "execution_count": 13,
   "metadata": {
    "collapsed": true
   },
   "outputs": [],
   "source": [
    "from thinkbayes2 import MakePoissonPmf"
   ]
  },
  {
   "cell_type": "markdown",
   "metadata": {},
   "source": [
    "If we assume that `lam` is the mean of the posterior, we can generate a predictive distribution for the number of goals in the remainder of the game."
   ]
  },
  {
   "cell_type": "code",
   "execution_count": 14,
   "metadata": {},
   "outputs": [
    {
     "data": {
      "image/png": "[encoded data removed]",
      "text/plain": [
       "<matplotlib.figure.Figure at 0x7f4685c5e810>"
      ]
     },
     "metadata": {},
     "output_type": "display_data"
    }
   ],
   "source": [
    "lam = soccer.Mean()\n",
    "rem_time = 90 - 23\n",
    "lt = lam * rem_time / 90\n",
    "pred = MakePoissonPmf(lt, 10)\n",
    "thinkplot.Hist(pred)\n",
    "thinkplot.Config(title='Option 1', \n",
    "                 xlabel='Expected goals',\n",
    "                 xlim=[-0.5, 10.5])"
   ]
  },
  {
   "cell_type": "markdown",
   "metadata": {},
   "source": [
    "The predictive mean is about 2 goals."
   ]
  },
  {
   "cell_type": "code",
   "execution_count": 15,
   "metadata": {},
   "outputs": [
    {
     "data": {
      "text/plain": [
       "1.9377241975748247"
      ]
     },
     "execution_count": 15,
     "metadata": {},
     "output_type": "execute_result"
    }
   ],
   "source": [
    "pred.Mean()"
   ]
  },
  {
   "cell_type": "markdown",
   "metadata": {},
   "source": [
    "And the chance of scoring 5 more goals is still small."
   ]
  },
  {
   "cell_type": "code",
   "execution_count": 16,
   "metadata": {},
   "outputs": [
    {
     "data": {
      "text/plain": [
       "0.047208117119541912"
      ]
     },
     "execution_count": 16,
     "metadata": {},
     "output_type": "execute_result"
    }
   ],
   "source": [
    "pred.ProbGreater(4)"
   ]
  },
  {
   "cell_type": "markdown",
   "metadata": {},
   "source": [
    "But that answer is only approximate because it does not take into account our uncertainty about `lam`.\n",
    "\n",
    "The correct method is to compute a weighted mixture of Poisson distributions, one for each possible value of `lam`.\n",
    "\n",
    "The following figure shows the different predictive distributions for the different values of `lam`."
   ]
  },
  {
   "cell_type": "code",
   "execution_count": 17,
   "metadata": {},
   "outputs": [
    {
     "data": {
      "image/png": "[encoded data removed]",
      "text/plain": [
       "<matplotlib.figure.Figure at 0x7f4685951cd0>"
      ]
     },
     "metadata": {},
     "output_type": "display_data"
    }
   ],
   "source": [
    "for lam, prob in soccer.Items():\n",
    "    lt = lam * rem_time / 90\n",
    "    pred = MakePoissonPmf(lt, 14)\n",
    "    thinkplot.Pdf(pred, color='gray', alpha=0.3, linewidth=0.5)\n",
    "\n",
    "thinkplot.Config(xlabel='Expected goals')"
   ]
  },
  {
   "cell_type": "markdown",
   "metadata": {},
   "source": [
    "We can compute the mixture of these distributions by making a Meta-Pmf that maps from each Poisson Pmf to its probability."
   ]
  },
  {
   "cell_type": "code",
   "execution_count": 18,
   "metadata": {
    "collapsed": true
   },
   "outputs": [],
   "source": [
    "metapmf = Pmf()\n",
    "\n",
    "for lam, prob in soccer.Items():\n",
    "    lt = lam * rem_time / 90\n",
    "    pred = MakePoissonPmf(lt, 15)\n",
    "    metapmf[pred] = prob"
   ]
  },
  {
   "cell_type": "markdown",
   "metadata": {},
   "source": [
    "`MakeMixture` takes a Meta-Pmf (a Pmf that contains Pmfs) and returns a single Pmf that represents the weighted mixture of distributions:"
   ]
  },
  {
   "cell_type": "code",
   "execution_count": 19,
   "metadata": {
    "collapsed": true
   },
   "outputs": [],
   "source": [
    "def MakeMixture(metapmf, label='mix'):\n",
    "    \"\"\"Make a mixture distribution.\n",
    "\n",
    "    Args:\n",
    "      metapmf: Pmf that maps from Pmfs to probs.\n",
    "      label: string label for the new Pmf.\n",
    "\n",
    "    Returns: Pmf object.\n",
    "    \"\"\"\n",
    "    mix = Pmf(label=label)\n",
    "    for pmf, p1 in metapmf.Items():\n",
    "        for x, p2 in pmf.Items():\n",
    "            mix[x] += p1 * p2\n",
    "    return mix"
   ]
  },
  {
   "cell_type": "markdown",
   "metadata": {},
   "source": [
    "Here's the result for the World Cup problem."
   ]
  },
  {
   "cell_type": "code",
   "execution_count": 20,
   "metadata": {
    "collapsed": true
   },
   "outputs": [],
   "source": [
    "mix = MakeMixture(metapmf)"
   ]
  },
  {
   "cell_type": "markdown",
   "metadata": {},
   "source": [
    "And here's what the mixture looks like."
   ]
  },
  {
   "cell_type": "code",
   "execution_count": 21,
   "metadata": {},
   "outputs": [
    {
     "data": {
      "image/png": "[encoded data removed]",
      "text/plain": [
       "<matplotlib.figure.Figure at 0x7f4685933e10>"
      ]
     },
     "metadata": {},
     "output_type": "display_data"
    }
   ],
   "source": [
    "thinkplot.Hist(mix)\n",
    "thinkplot.Config(title='Option 2', \n",
    "                 xlabel='Expected goals',\n",
    "                 xlim=[-0.5, 10.5])"
   ]
  },
  {
   "cell_type": "markdown",
   "metadata": {},
   "source": [
    "**Exercise:** Compute the predictive mean and the probability of scoring 5 or more additional goals."
   ]
  },
  {
   "cell_type": "code",
   "execution_count": 22,
   "metadata": {},
   "outputs": [
    {
     "data": {
      "text/plain": [
       "(1.9377505061485509, 0.085650136218385256)"
      ]
     },
     "execution_count": 22,
     "metadata": {},
     "output_type": "execute_result"
    }
   ],
   "source": [
    "# Solution\n",
    "\n",
    "mix.Mean(), mix.ProbGreater(4)"
   ]
  },
  {
   "cell_type": "code",
   "execution_count": null,
   "metadata": {
    "collapsed": true
   },
   "outputs": [],
   "source": []
  },
  {
   "cell_type": "code",
   "execution_count": null,
   "metadata": {
    "collapsed": true
   },
   "outputs": [],
   "source": []
  }
 ],
 "metadata": {
  "kernelspec": {
   "display_name": "Python 2",
   "language": "python",
   "name": "python2"
  },
  "language_info": {
   "codemirror_mode": {
    "name": "ipython",
    "version": 2
   },
   "file_extension": ".py",
   "mimetype": "text/x-python",
   "name": "python",
   "nbconvert_exporter": "python",
   "pygments_lexer": "ipython2",
   "version": "2.7.12"
  }
 },
 "nbformat": 4,
 "nbformat_minor": 1
}

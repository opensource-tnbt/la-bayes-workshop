{
 "cells": [
  {
   "cell_type": "markdown",
   "metadata": {},
   "source": [
    "Assuming that bi is the Cartesian system and the new basis is given by,\n",
    "\n",
    "B1=[2 \n",
    "    3]\n",
    "B2=[−1\n",
    "     1]"
   ]
  },
  {
   "cell_type": "code",
   "execution_count": 8,
   "metadata": {},
   "outputs": [
    {
     "data": {
      "image/png": "[encoded data removed]",
      "text/plain": [
       "<matplotlib.figure.Figure at 0x7fafaee0c490>"
      ]
     },
     "metadata": {},
     "output_type": "display_data"
    }
   ],
   "source": [
    "# Those vectors in the Cartesian coordinate system are drawn with\n",
    "%matplotlib inline\n",
    "import matplotlib.pyplot as plt\n",
    "import numpy as np\n",
    "\n",
    "figsize = [7, 7]\n",
    "\n",
    "fig, ax = plt.subplots()\n",
    "\n",
    "b1, b2 = np.array([1, 0]), np.array([0, 1])\n",
    "B1, B2 = np.array([2, 3]), np.array([-1, 1])\n",
    "\n",
    "ax.arrow(0, 0, b1[0], b1[1] , fc='b', ec='b', head_width=0.3, head_length=.3)\n",
    "ax.arrow(0, 0, b2[0], b2[1] , fc='b', ec='b', head_width=0.3, head_length=.3)\n",
    "ax.arrow(0, 0, B1[0], B1[1] , fc='r', ec='r', head_width=0.3, head_length=.3)\n",
    "ax.arrow(0, 0, B2[0], B2[1] , fc='r', ec='r', head_width=0.3, head_length=.3)\n",
    "ax.axis([-3, 4, -5, 4])\n",
    "ax.set_aspect('equal')\n",
    "ax.axhline(color='k', alpha=.3)\n",
    "ax.axvline(color='k', alpha=.3)\n",
    "fig.set_size_inches(figsize)"
   ]
  },
  {
   "cell_type": "code",
   "execution_count": 4,
   "metadata": {},
   "outputs": [
    {
     "name": "stdout",
     "output_type": "stream",
     "text": [
      "Transformed to original system with \n",
      " Q=[[ 2 -1]\n",
      " [ 3  1]]\n"
     ]
    }
   ],
   "source": [
    "# The Q matrix can be found with,\n",
    "Q = np.array([B1, B2]).T\n",
    "print('Transformed to original system with \\n Q={}'.format(Q))"
   ]
  },
  {
   "cell_type": "code",
   "execution_count": 5,
   "metadata": {},
   "outputs": [
    {
     "data": {
      "image/png": "[encoded data removed]",
      "text/plain": [
       "<matplotlib.figure.Figure at 0x7fafbaf010d0>"
      ]
     },
     "metadata": {},
     "output_type": "display_data"
    }
   ],
   "source": [
    "# Let's say we have a vector in the original system v=[1,−4] which in the graph\n",
    "fig, ax = plt.subplots()\n",
    "\n",
    "v = np.array([2, -4])\n",
    "\n",
    "ax.arrow(0, 0, v[0], v[1] , fc='g', ec='g', head_width=0.3, head_length=.3)\n",
    "ax.arrow(0, 0, v[0]*b1[0], v[0]*b1[1] , fc='b', ec='b', head_width=0.3, head_length=.3)\n",
    "ax.arrow(0, 0, v[1]*b2[0], v[1]*b2[1] , fc='b', ec='b', head_width=0.3, head_length=.3)\n",
    "\n",
    "ax.arrow(0, 0, b1[0], b1[1] , fc='b', ec='b', head_width=0.3, head_length=.3, alpha=.2)\n",
    "ax.arrow(0, 0, b2[0], b2[1] , fc='b', ec='b', head_width=0.3, head_length=.3, alpha=.2)\n",
    "ax.arrow(0, 0, B1[0], B1[1] , fc='r', ec='r', head_width=0.3, head_length=.3, alpha=.2)\n",
    "ax.arrow(0, 0, B2[0], B2[1] , fc='r', ec='r', head_width=0.3, head_length=.3, alpha=.2)\n",
    "ax.axis([-3, 4, -5, 4])\n",
    "ax.set_aspect('equal')\n",
    "ax.axhline(color='k', alpha=.3)\n",
    "ax.axvline(color='k', alpha=.3)\n",
    "fig.set_size_inches(figsize)"
   ]
  },
  {
   "cell_type": "code",
   "execution_count": 6,
   "metadata": {},
   "outputs": [
    {
     "name": "stdout",
     "output_type": "stream",
     "text": [
      "The vector in the new coordinates \n",
      " v_B=[-0.4 -2.8]\n"
     ]
    }
   ],
   "source": [
    "#Now we want this vector in the new coordinate system\n",
    "v_B = np.linalg.solve(Q, v)\n",
    "print('The vector in the new coordinates \\n v_B={}'.format(v_B))"
   ]
  },
  {
   "cell_type": "code",
   "execution_count": 7,
   "metadata": {},
   "outputs": [
    {
     "data": {
      "image/png": "[encoded data removed]",
      "text/plain": [
       "<matplotlib.figure.Figure at 0x7fafbb76aa50>"
      ]
     },
     "metadata": {},
     "output_type": "display_data"
    }
   ],
   "source": [
    "#plotting this result, which each entry is the scale of the vectors B1 and B2.\n",
    "fig, ax = plt.subplots()\n",
    "\n",
    "ax.arrow(0, 0, v_B[0]*B1[0], v_B[0]*B1[1] , fc='r', ec='r', head_width=0.3, head_length=.3)\n",
    "ax.arrow(0, 0, v_B[1]*B2[0], v_B[1]*B2[1] , fc='r', ec='r', head_width=0.3, head_length=.3)\n",
    "ax.arrow(0, 0, v[0], v[1] , fc='g', ec='g', head_width=0.3, head_length=.3)\n",
    "\n",
    "\n",
    "ax.arrow(0, 0, b1[0], b1[1] , fc='b', ec='b', head_width=0.3, head_length=.3, alpha=.2)\n",
    "ax.arrow(0, 0, b2[0], b2[1] , fc='b', ec='b', head_width=0.3, head_length=.3, alpha=.2)\n",
    "ax.arrow(0, 0, B1[0], B1[1] , fc='r', ec='r', head_width=0.3, head_length=.3, alpha=.2)\n",
    "ax.arrow(0, 0, B2[0], B2[1] , fc='r', ec='r', head_width=0.3, head_length=.3, alpha=.2)\n",
    "ax.axis([-3, 4, -5, 4])\n",
    "ax.set_aspect('equal')\n",
    "ax.axhline(color='k', alpha=.3)\n",
    "ax.axvline(color='k', alpha=.3)\n",
    "fig.set_size_inches(figsize)"
   ]
  },
  {
   "cell_type": "code",
   "execution_count": null,
   "metadata": {
    "collapsed": true
   },
   "outputs": [],
   "source": []
  }
 ],
 "metadata": {
  "kernelspec": {
   "display_name": "Python 2",
   "language": "python",
   "name": "python2"
  },
  "language_info": {
   "codemirror_mode": {
    "name": "ipython",
    "version": 2
   },
   "file_extension": ".py",
   "mimetype": "text/x-python",
   "name": "python",
   "nbconvert_exporter": "python",
   "pygments_lexer": "ipython2",
   "version": "2.7.12"
  }
 },
 "nbformat": 4,
 "nbformat_minor": 2
}
